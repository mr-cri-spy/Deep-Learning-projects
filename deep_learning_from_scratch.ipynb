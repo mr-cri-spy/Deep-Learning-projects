{
  "nbformat": 4,
  "nbformat_minor": 0,
  "metadata": {
    "colab": {
      "provenance": [],
      "authorship_tag": "ABX9TyNDLBGD4D2o6LQB9iMqurBK",
      "include_colab_link": true
    },
    "kernelspec": {
      "name": "python3",
      "display_name": "Python 3"
    },
    "language_info": {
      "name": "python"
    }
  },
  "cells": [
    {
      "cell_type": "markdown",
      "metadata": {
        "id": "view-in-github",
        "colab_type": "text"
      },
      "source": [
        "<a href=\"https://colab.research.google.com/github/mr-cri-spy/Deep-Learning-projects/blob/main/deep_learning_from_scratch.ipynb\" target=\"_parent\"><img src=\"https://colab.research.google.com/assets/colab-badge.svg\" alt=\"Open In Colab\"/></a>"
      ]
    },
    {
      "cell_type": "code",
      "execution_count": null,
      "metadata": {
        "id": "Xz5NezQEneRB"
      },
      "outputs": [],
      "source": []
    },
    {
      "cell_type": "markdown",
      "source": [
        "importing library"
      ],
      "metadata": {
        "id": "gG60_igZnosu"
      }
    },
    {
      "cell_type": "code",
      "source": [
        "import numpy as np"
      ],
      "metadata": {
        "id": "LErxub_VnpXz"
      },
      "execution_count": null,
      "outputs": []
    },
    {
      "cell_type": "markdown",
      "source": [
        "creating  the x and y"
      ],
      "metadata": {
        "id": "JasqgDEBnwlC"
      }
    },
    {
      "cell_type": "code",
      "source": [
        "x = np.array([[1,0,0],[0,0,1],[1,0,1],[1,1,1]])\n",
        "y = np.array([[1],[0],[1],[1]])"
      ],
      "metadata": {
        "id": "1qqQdhuCn1Ne"
      },
      "execution_count": null,
      "outputs": []
    },
    {
      "cell_type": "code",
      "source": [
        "x"
      ],
      "metadata": {
        "colab": {
          "base_uri": "https://localhost:8080/"
        },
        "id": "fj7P_vOOould",
        "outputId": "45cf4202-4a72-417e-be43-445614b1c326"
      },
      "execution_count": null,
      "outputs": [
        {
          "output_type": "execute_result",
          "data": {
            "text/plain": [
              "array([[1, 0, 0],\n",
              "       [0, 0, 1],\n",
              "       [1, 0, 1],\n",
              "       [1, 1, 1]])"
            ]
          },
          "metadata": {},
          "execution_count": 3
        }
      ]
    },
    {
      "cell_type": "code",
      "source": [
        "y"
      ],
      "metadata": {
        "colab": {
          "base_uri": "https://localhost:8080/"
        },
        "id": "5EKF44acov4N",
        "outputId": "6eb53c1d-8381-468d-ca3b-55d5b4dd4de3"
      },
      "execution_count": null,
      "outputs": [
        {
          "output_type": "execute_result",
          "data": {
            "text/plain": [
              "array([[1],\n",
              "       [0],\n",
              "       [1],\n",
              "       [1]])"
            ]
          },
          "metadata": {},
          "execution_count": 4
        }
      ]
    },
    {
      "cell_type": "markdown",
      "source": [
        "assighn the weights"
      ],
      "metadata": {
        "id": "Q_oBCT05o0vM"
      }
    },
    {
      "cell_type": "code",
      "source": [
        "np.random.seed(20)\n",
        "weight = np.random.random([3,1])\n",
        "weight"
      ],
      "metadata": {
        "colab": {
          "base_uri": "https://localhost:8080/"
        },
        "id": "WhzcQzuYo5pG",
        "outputId": "49b9d7a8-1161-4108-a4cb-a1dc92057967"
      },
      "execution_count": null,
      "outputs": [
        {
          "output_type": "execute_result",
          "data": {
            "text/plain": [
              "array([[0.5881308 ],\n",
              "       [0.89771373],\n",
              "       [0.89153073]])"
            ]
          },
          "metadata": {},
          "execution_count": 5
        }
      ]
    },
    {
      "cell_type": "markdown",
      "source": [
        "weighted sum"
      ],
      "metadata": {
        "id": "MsFl1xBfekH9"
      }
    },
    {
      "cell_type": "code",
      "source": [
        "sum = np.dot(x,weight) + 0.02\n",
        "sum"
      ],
      "metadata": {
        "colab": {
          "base_uri": "https://localhost:8080/"
        },
        "id": "v5rGJQ2KdsMc",
        "outputId": "1b29e444-63e5-48c1-cafe-cc9e9ac8c3ec"
      },
      "execution_count": null,
      "outputs": [
        {
          "output_type": "execute_result",
          "data": {
            "text/plain": [
              "array([[0.6081308 ],\n",
              "       [0.91153073],\n",
              "       [1.49966153],\n",
              "       [2.39737526]])"
            ]
          },
          "metadata": {},
          "execution_count": 6
        }
      ]
    },
    {
      "cell_type": "markdown",
      "source": [
        "Activation function(sigmoid bec which is taken only 0 or 1 right so )"
      ],
      "metadata": {
        "id": "wML4lDJre4CN"
      }
    },
    {
      "cell_type": "code",
      "source": [
        "yp = 1/(1 + np.exp(-sum))\n",
        "yp"
      ],
      "metadata": {
        "colab": {
          "base_uri": "https://localhost:8080/"
        },
        "id": "DT2x3aVHfGaZ",
        "outputId": "c0a47fb8-dc0d-4b75-f192-6e5924c5736e"
      },
      "execution_count": null,
      "outputs": [
        {
          "output_type": "execute_result",
          "data": {
            "text/plain": [
              "array([[0.64751429],\n",
              "       [0.7133133 ],\n",
              "       [0.81752399],\n",
              "       [0.91662693]])"
            ]
          },
          "metadata": {},
          "execution_count": 8
        }
      ]
    },
    {
      "cell_type": "markdown",
      "source": [
        "initially we will get wrong prediction bec weight is not correct but we have to correct, tune  the weight now the correct o/p we are accepting is 1,0,1,1"
      ],
      "metadata": {
        "id": "-48ry6p6glxt"
      }
    },
    {
      "cell_type": "code",
      "source": [
        "yp.round()"
      ],
      "metadata": {
        "colab": {
          "base_uri": "https://localhost:8080/"
        },
        "id": "ZZ-8woudgGh4",
        "outputId": "2ac5ba8e-7fa9-48cc-96b5-ef3aea887915"
      },
      "execution_count": null,
      "outputs": [
        {
          "output_type": "execute_result",
          "data": {
            "text/plain": [
              "array([[1.],\n",
              "       [1.],\n",
              "       [1.],\n",
              "       [1.]])"
            ]
          },
          "metadata": {},
          "execution_count": 9
        }
      ]
    },
    {
      "cell_type": "markdown",
      "source": [
        "we have to calculate error right now"
      ],
      "metadata": {
        "id": "03aYpFlljnes"
      }
    },
    {
      "cell_type": "code",
      "source": [
        "error = y - yp\n",
        "error"
      ],
      "metadata": {
        "colab": {
          "base_uri": "https://localhost:8080/"
        },
        "id": "B8CzjG6qgRdY",
        "outputId": "d8d43f69-0a4b-45b5-b36b-f0cd683990e0"
      },
      "execution_count": null,
      "outputs": [
        {
          "output_type": "execute_result",
          "data": {
            "text/plain": [
              "array([[ 0.35248571],\n",
              "       [-0.7133133 ],\n",
              "       [ 0.18247601],\n",
              "       [ 0.08337307]])"
            ]
          },
          "metadata": {},
          "execution_count": 10
        }
      ]
    },
    {
      "cell_type": "markdown",
      "source": [
        "Gradient descent ( Optimize the model )"
      ],
      "metadata": {
        "id": "VpDiJQC1j5Bh"
      }
    },
    {
      "cell_type": "code",
      "source": [
        "sum = np.dot(x,weight) + 0.02\n",
        "yp = 1/(1 + np.exp(-sum))\n",
        "error = y - yp\n",
        "change_in_weight = error * yp *(1-yp) ##gradient descent\n",
        "\n",
        "weight =weight + np.dot(x.T,change_in_weight)\n",
        "\n",
        "error ## now error will be reduce"
      ],
      "metadata": {
        "colab": {
          "base_uri": "https://localhost:8080/"
        },
        "id": "jyW9MUc8jzkU",
        "outputId": "998776fe-12cc-4ace-eed1-7bbd0b6e91af"
      },
      "execution_count": null,
      "outputs": [
        {
          "output_type": "execute_result",
          "data": {
            "text/plain": [
              "array([[ 0.26542112],\n",
              "       [-0.61252056],\n",
              "       [ 0.1890953 ],\n",
              "       [ 0.0847886 ]])"
            ]
          },
          "metadata": {},
          "execution_count": 15
        }
      ]
    },
    {
      "cell_type": "markdown",
      "source": [
        "run 1000 times lets see\n"
      ],
      "metadata": {
        "id": "X49epN9uoC2X"
      }
    },
    {
      "cell_type": "code",
      "source": [
        "for i in range(1000):\n",
        "  sum = np.dot(x,weight) + 0.02\n",
        "  yp = 1/(1 + np.exp(-sum))\n",
        "  error = y - yp\n",
        "  change_in_weight = error * yp *(1-yp) ##gradient descent\n",
        "  weight =weight + np.dot(x.T,change_in_weight)\n",
        "\n"
      ],
      "metadata": {
        "id": "C01nfqh_mYud"
      },
      "execution_count": null,
      "outputs": []
    },
    {
      "cell_type": "code",
      "source": [
        "\n",
        "error"
      ],
      "metadata": {
        "colab": {
          "base_uri": "https://localhost:8080/"
        },
        "id": "AlvPJ8vmopNT",
        "outputId": "b68395b8-2c0a-4f50-da69-14e9364d960d"
      },
      "execution_count": null,
      "outputs": [
        {
          "output_type": "execute_result",
          "data": {
            "text/plain": [
              "array([[ 0.00141774],\n",
              "       [-0.04131824],\n",
              "       [ 0.03251447],\n",
              "       [ 0.00796023]])"
            ]
          },
          "metadata": {},
          "execution_count": 20
        }
      ]
    },
    {
      "cell_type": "code",
      "source": [
        "y"
      ],
      "metadata": {
        "colab": {
          "base_uri": "https://localhost:8080/"
        },
        "id": "BZ6v6dLho5_3",
        "outputId": "3e59f136-3822-42b9-bd09-ab5ed7d00713"
      },
      "execution_count": null,
      "outputs": [
        {
          "output_type": "execute_result",
          "data": {
            "text/plain": [
              "array([[1],\n",
              "       [0],\n",
              "       [1],\n",
              "       [1]])"
            ]
          },
          "metadata": {},
          "execution_count": 22
        }
      ]
    },
    {
      "cell_type": "code",
      "source": [
        "yp.round()"
      ],
      "metadata": {
        "colab": {
          "base_uri": "https://localhost:8080/"
        },
        "id": "rMgBuWV5oxZR",
        "outputId": "51884382-ff2f-4bf1-dae8-09fb43dfcc82"
      },
      "execution_count": null,
      "outputs": [
        {
          "output_type": "execute_result",
          "data": {
            "text/plain": [
              "array([[1.],\n",
              "       [0.],\n",
              "       [1.],\n",
              "       [1.]])"
            ]
          },
          "metadata": {},
          "execution_count": 21
        }
      ]
    },
    {
      "cell_type": "code",
      "source": [
        "weight ##true bec y is depending on  x"
      ],
      "metadata": {
        "colab": {
          "base_uri": "https://localhost:8080/"
        },
        "id": "4rKVryAnozRE",
        "outputId": "8b2a84f4-52ca-4267-e148-608a81eb6e75"
      },
      "execution_count": null,
      "outputs": [
        {
          "output_type": "execute_result",
          "data": {
            "text/plain": [
              "array([[ 6.53835812],\n",
              "       [ 1.43235297],\n",
              "       [-3.16480617]])"
            ]
          },
          "metadata": {},
          "execution_count": 25
        }
      ]
    }
  ]
}