{
  "nbformat": 4,
  "nbformat_minor": 0,
  "metadata": {
    "colab": {
      "provenance": [],
      "gpuType": "T4",
      "include_colab_link": true
    },
    "kernelspec": {
      "name": "python3",
      "display_name": "Python 3"
    },
    "language_info": {
      "name": "python"
    },
    "accelerator": "GPU"
  },
  "cells": [
    {
      "cell_type": "markdown",
      "metadata": {
        "id": "view-in-github",
        "colab_type": "text"
      },
      "source": [
        "<a href=\"https://colab.research.google.com/github/mr-cri-spy/Deep-Learning-projects/blob/main/CNN_Cat_%26_Dog_Classification.ipynb\" target=\"_parent\"><img src=\"https://colab.research.google.com/assets/colab-badge.svg\" alt=\"Open In Colab\"/></a>"
      ]
    },
    {
      "cell_type": "code",
      "execution_count": null,
      "metadata": {
        "colab": {
          "base_uri": "https://localhost:8080/"
        },
        "id": "AaTeeRfUumrf",
        "outputId": "0d22b7b3-f419-42b0-e133-7c559aa33960"
      },
      "outputs": [
        {
          "output_type": "stream",
          "name": "stdout",
          "text": [
            "finish\n"
          ]
        }
      ],
      "source": [
        "from zipfile import ZipFile\n",
        "file_name = \"/content/drive/MyDrive/dataset_new.zip\"\n",
        "with ZipFile(file_name,'r') as zip:\n",
        "  zip.extractall()\n",
        "  print('finish')"
      ]
    },
    {
      "cell_type": "code",
      "source": [
        "import keras\n",
        "from keras.models import Sequential\n",
        "from tensorflow.keras.preprocessing.image import ImageDataGenerator\n",
        "from keras.layers import *\n",
        "import numpy as np"
      ],
      "metadata": {
        "id": "Q8sHz6jUwJOn"
      },
      "execution_count": null,
      "outputs": []
    },
    {
      "cell_type": "code",
      "source": [
        "# https://keras.io/api/preprocessing/image/#imagedatagenerator-class\n",
        "## data augmentation - generating more samples of images\n",
        "\n",
        "train_datagen = ImageDataGenerator(rescale = 1./255,\n",
        "                                   shear_range = 0.2,\n",
        "                                   zoom_range = 0.2,\n",
        "                                   horizontal_flip = True)\n",
        "test_datagen = ImageDataGenerator(rescale = 1./255)"
      ],
      "metadata": {
        "id": "o5j21uBVx9-a"
      },
      "execution_count": null,
      "outputs": []
    },
    {
      "cell_type": "code",
      "source": [
        "training_set = train_datagen.flow_from_directory('/content/dataset_new/training_set',\n",
        "                                                 target_size = (64, 64),\n",
        "                                                 batch_size = 32,\n",
        "                                                 class_mode = 'binary')\n",
        "test_set = test_datagen.flow_from_directory('/content/dataset_new/test_set',\n",
        "                                            target_size = (64, 64),\n",
        "                                            batch_size = 32,\n",
        "                                            class_mode = 'binary')"
      ],
      "metadata": {
        "colab": {
          "base_uri": "https://localhost:8080/"
        },
        "id": "-bwm9WyYyerA",
        "outputId": "887ef25c-7c63-4acf-ca7a-a9dd6eea3aa8"
      },
      "execution_count": null,
      "outputs": [
        {
          "output_type": "stream",
          "name": "stdout",
          "text": [
            "Found 2000 images belonging to 2 classes.\n",
            "Found 500 images belonging to 2 classes.\n"
          ]
        }
      ]
    },
    {
      "cell_type": "code",
      "source": [
        "### Creating model and layers\n",
        "model = Sequential();   ## blank model\n",
        "# Step 1 - Convolution\n",
        "model.add(Conv2D(32,(3,3),input_shape=(64,64,3),activation='relu'))\n",
        "model.add(MaxPooling2D(pool_size=(2,2)))\n",
        "model.add(Dropout(0.2))   ## applied for under/over fitting\n",
        "# Step 1 - Convolution\n",
        "model.add(Conv2D(64,(3,3),activation='relu'))\n",
        "# Step 2 - Pooling\n",
        "model.add(MaxPooling2D(pool_size=(2,2)))\n",
        "model.add(Dropout(0.3))\n",
        "model.add(Conv2D(128,(3,3),activation='relu'))\n",
        "# Step 2 - Pooling\n",
        "model.add(MaxPooling2D(pool_size=(2,2)))\n",
        "model.add(Dropout(0.4))\n",
        "# Step 3 - Flattening\n",
        "model.add(Flatten())\n",
        "### output\n",
        "# Step 4 - Full connection\n",
        "model.add(Dense(1, activation='sigmoid'))   ## output layer\n",
        "# Compiling the CNN\n",
        "model.compile(optimizer ='adam',loss='binary_crossentropy',metrics=['accuracy'])"
      ],
      "metadata": {
        "colab": {
          "base_uri": "https://localhost:8080/"
        },
        "collapsed": true,
        "id": "Z_ixVP8Ayf8a",
        "outputId": "728da1ca-5402-4df6-c067-0b9f1c0174f3"
      },
      "execution_count": null,
      "outputs": [
        {
          "output_type": "stream",
          "name": "stderr",
          "text": [
            "/usr/local/lib/python3.11/dist-packages/keras/src/layers/convolutional/base_conv.py:107: UserWarning: Do not pass an `input_shape`/`input_dim` argument to a layer. When using Sequential models, prefer using an `Input(shape)` object as the first layer in the model instead.\n",
            "  super().__init__(activity_regularizer=activity_regularizer, **kwargs)\n"
          ]
        }
      ]
    },
    {
      "cell_type": "code",
      "source": [
        "model.fit(training_set,\n",
        "          epochs = 200,\n",
        "          steps_per_epoch=2000//32,\n",
        "          validation_steps=500//32,\n",
        "          validation_data = test_set)"
      ],
      "metadata": {
        "colab": {
          "base_uri": "https://localhost:8080/"
        },
        "id": "BtT2ir8ByhKW",
        "outputId": "56f7a302-6347-4c7f-dbed-0c2e86321fce"
      },
      "execution_count": null,
      "outputs": [
        {
          "output_type": "stream",
          "name": "stdout",
          "text": [
            "Epoch 1/200\n"
          ]
        },
        {
          "output_type": "stream",
          "name": "stderr",
          "text": [
            "/usr/local/lib/python3.11/dist-packages/keras/src/trainers/data_adapters/py_dataset_adapter.py:122: UserWarning: Your `PyDataset` class should call `super().__init__(**kwargs)` in its constructor. `**kwargs` can include `workers`, `use_multiprocessing`, `max_queue_size`. Do not pass these arguments to `fit()`, as they will be ignored.\n",
            "  self._warn_if_super_not_called()\n"
          ]
        },
        {
          "output_type": "stream",
          "name": "stdout",
          "text": [
            "\u001b[1m62/62\u001b[0m \u001b[32m━━━━━━━━━━━━━━━━━━━━\u001b[0m\u001b[37m\u001b[0m \u001b[1m16s\u001b[0m 162ms/step - accuracy: 0.5157 - loss: 0.7040 - val_accuracy: 0.5000 - val_loss: 0.6911\n",
            "Epoch 2/200\n",
            "\u001b[1m 1/62\u001b[0m \u001b[37m━━━━━━━━━━━━━━━━━━━━\u001b[0m \u001b[1m0s\u001b[0m 9ms/step - accuracy: 0.5000 - loss: 0.6881"
          ]
        },
        {
          "output_type": "stream",
          "name": "stderr",
          "text": [
            "/usr/lib/python3.11/contextlib.py:158: UserWarning: Your input ran out of data; interrupting training. Make sure that your dataset or generator can generate at least `steps_per_epoch * epochs` batches. You may need to use the `.repeat()` function when building your dataset.\n",
            "  self.gen.throw(typ, value, traceback)\n"
          ]
        },
        {
          "output_type": "stream",
          "name": "stdout",
          "text": [
            "\b\b\b\b\b\b\b\b\b\b\b\b\b\b\b\b\b\b\b\b\b\b\b\b\b\b\b\b\b\b\b\b\b\b\b\b\b\b\b\b\b\b\b\b\b\b\b\b\b\b\b\b\b\b\b\b\b\b\b\b\b\b\b\b\b\b\b\b\b\b\b\b\r\u001b[1m62/62\u001b[0m \u001b[32m━━━━━━━━━━━━━━━━━━━━\u001b[0m\u001b[37m\u001b[0m \u001b[1m0s\u001b[0m 8ms/step - accuracy: 0.5000 - loss: 0.6881 - val_accuracy: 0.5000 - val_loss: 0.6938\n",
            "Epoch 3/200\n",
            "\u001b[1m62/62\u001b[0m \u001b[32m━━━━━━━━━━━━━━━━━━━━\u001b[0m\u001b[37m\u001b[0m \u001b[1m12s\u001b[0m 97ms/step - accuracy: 0.5281 - loss: 0.6899 - val_accuracy: 0.5583 - val_loss: 0.6853\n",
            "Epoch 4/200\n",
            "\u001b[1m62/62\u001b[0m \u001b[32m━━━━━━━━━━━━━━━━━━━━\u001b[0m\u001b[37m\u001b[0m \u001b[1m0s\u001b[0m 438us/step - accuracy: 0.5000 - loss: 0.6853 - val_accuracy: 0.6000 - val_loss: 0.6884\n",
            "Epoch 5/200\n",
            "\u001b[1m62/62\u001b[0m \u001b[32m━━━━━━━━━━━━━━━━━━━━\u001b[0m\u001b[37m\u001b[0m \u001b[1m5s\u001b[0m 74ms/step - accuracy: 0.5933 - loss: 0.6741 - val_accuracy: 0.5938 - val_loss: 0.6673\n",
            "Epoch 6/200\n",
            "\u001b[1m62/62\u001b[0m \u001b[32m━━━━━━━━━━━━━━━━━━━━\u001b[0m\u001b[37m\u001b[0m \u001b[1m0s\u001b[0m 910us/step - accuracy: 0.5625 - loss: 0.6501 - val_accuracy: 0.9000 - val_loss: 0.6018\n",
            "Epoch 7/200\n",
            "\u001b[1m62/62\u001b[0m \u001b[32m━━━━━━━━━━━━━━━━━━━━\u001b[0m\u001b[37m\u001b[0m \u001b[1m10s\u001b[0m 75ms/step - accuracy: 0.6173 - loss: 0.6530 - val_accuracy: 0.6417 - val_loss: 0.6265\n",
            "Epoch 8/200\n",
            "\u001b[1m62/62\u001b[0m \u001b[32m━━━━━━━━━━━━━━━━━━━━\u001b[0m\u001b[37m\u001b[0m \u001b[1m0s\u001b[0m 489us/step - accuracy: 0.6562 - loss: 0.6685 - val_accuracy: 0.7500 - val_loss: 0.5883\n",
            "Epoch 9/200\n",
            "\u001b[1m62/62\u001b[0m \u001b[32m━━━━━━━━━━━━━━━━━━━━\u001b[0m\u001b[37m\u001b[0m \u001b[1m5s\u001b[0m 73ms/step - accuracy: 0.6754 - loss: 0.6022 - val_accuracy: 0.6458 - val_loss: 0.6323\n",
            "Epoch 10/200\n",
            "\u001b[1m62/62\u001b[0m \u001b[32m━━━━━━━━━━━━━━━━━━━━\u001b[0m\u001b[37m\u001b[0m \u001b[1m0s\u001b[0m 709us/step - accuracy: 0.7500 - loss: 0.5036 - val_accuracy: 0.7000 - val_loss: 0.6340\n",
            "Epoch 11/200\n",
            "\u001b[1m62/62\u001b[0m \u001b[32m━━━━━━━━━━━━━━━━━━━━\u001b[0m\u001b[37m\u001b[0m \u001b[1m6s\u001b[0m 93ms/step - accuracy: 0.6681 - loss: 0.6088 - val_accuracy: 0.6917 - val_loss: 0.6103\n",
            "Epoch 12/200\n",
            "\u001b[1m62/62\u001b[0m \u001b[32m━━━━━━━━━━━━━━━━━━━━\u001b[0m\u001b[37m\u001b[0m \u001b[1m0s\u001b[0m 337us/step - accuracy: 0.7500 - loss: 0.5774 - val_accuracy: 0.8000 - val_loss: 0.5120\n",
            "Epoch 13/200\n",
            "\u001b[1m62/62\u001b[0m \u001b[32m━━━━━━━━━━━━━━━━━━━━\u001b[0m\u001b[37m\u001b[0m \u001b[1m5s\u001b[0m 75ms/step - accuracy: 0.7064 - loss: 0.5805 - val_accuracy: 0.6896 - val_loss: 0.5836\n",
            "Epoch 14/200\n",
            "\u001b[1m62/62\u001b[0m \u001b[32m━━━━━━━━━━━━━━━━━━━━\u001b[0m\u001b[37m\u001b[0m \u001b[1m0s\u001b[0m 436us/step - accuracy: 0.7812 - loss: 0.5223 - val_accuracy: 0.7000 - val_loss: 0.4756\n",
            "Epoch 15/200\n",
            "\u001b[1m62/62\u001b[0m \u001b[32m━━━━━━━━━━━━━━━━━━━━\u001b[0m\u001b[37m\u001b[0m \u001b[1m7s\u001b[0m 100ms/step - accuracy: 0.7056 - loss: 0.5839 - val_accuracy: 0.6479 - val_loss: 0.6520\n",
            "Epoch 16/200\n",
            "\u001b[1m62/62\u001b[0m \u001b[32m━━━━━━━━━━━━━━━━━━━━\u001b[0m\u001b[37m\u001b[0m \u001b[1m0s\u001b[0m 491us/step - accuracy: 0.7500 - loss: 0.4557 - val_accuracy: 0.8000 - val_loss: 0.4368\n",
            "Epoch 17/200\n",
            "\u001b[1m62/62\u001b[0m \u001b[32m━━━━━━━━━━━━━━━━━━━━\u001b[0m\u001b[37m\u001b[0m \u001b[1m5s\u001b[0m 76ms/step - accuracy: 0.6775 - loss: 0.5807 - val_accuracy: 0.6979 - val_loss: 0.6081\n",
            "Epoch 18/200\n",
            "\u001b[1m62/62\u001b[0m \u001b[32m━━━━━━━━━━━━━━━━━━━━\u001b[0m\u001b[37m\u001b[0m \u001b[1m0s\u001b[0m 365us/step - accuracy: 0.6875 - loss: 0.7754 - val_accuracy: 0.8000 - val_loss: 0.4804\n",
            "Epoch 19/200\n",
            "\u001b[1m62/62\u001b[0m \u001b[32m━━━━━━━━━━━━━━━━━━━━\u001b[0m\u001b[37m\u001b[0m \u001b[1m5s\u001b[0m 79ms/step - accuracy: 0.7269 - loss: 0.5530 - val_accuracy: 0.6771 - val_loss: 0.6246\n",
            "Epoch 20/200\n",
            "\u001b[1m62/62\u001b[0m \u001b[32m━━━━━━━━━━━━━━━━━━━━\u001b[0m\u001b[37m\u001b[0m \u001b[1m1s\u001b[0m 8ms/step - accuracy: 0.5312 - loss: 0.6864 - val_accuracy: 0.4000 - val_loss: 1.0087\n",
            "Epoch 21/200\n",
            "\u001b[1m62/62\u001b[0m \u001b[32m━━━━━━━━━━━━━━━━━━━━\u001b[0m\u001b[37m\u001b[0m \u001b[1m6s\u001b[0m 86ms/step - accuracy: 0.7170 - loss: 0.5603 - val_accuracy: 0.7146 - val_loss: 0.5747\n",
            "Epoch 22/200\n",
            "\u001b[1m62/62\u001b[0m \u001b[32m━━━━━━━━━━━━━━━━━━━━\u001b[0m\u001b[37m\u001b[0m \u001b[1m0s\u001b[0m 426us/step - accuracy: 0.6250 - loss: 0.6233 - val_accuracy: 0.6000 - val_loss: 0.6787\n",
            "Epoch 23/200\n",
            "\u001b[1m62/62\u001b[0m \u001b[32m━━━━━━━━━━━━━━━━━━━━\u001b[0m\u001b[37m\u001b[0m \u001b[1m11s\u001b[0m 98ms/step - accuracy: 0.7287 - loss: 0.5436 - val_accuracy: 0.6917 - val_loss: 0.5776\n",
            "Epoch 24/200\n",
            "\u001b[1m62/62\u001b[0m \u001b[32m━━━━━━━━━━━━━━━━━━━━\u001b[0m\u001b[37m\u001b[0m \u001b[1m1s\u001b[0m 10ms/step - accuracy: 0.6562 - loss: 0.6730 - val_accuracy: 0.7000 - val_loss: 0.4956\n",
            "Epoch 25/200\n",
            "\u001b[1m62/62\u001b[0m \u001b[32m━━━━━━━━━━━━━━━━━━━━\u001b[0m\u001b[37m\u001b[0m \u001b[1m8s\u001b[0m 76ms/step - accuracy: 0.7540 - loss: 0.5228 - val_accuracy: 0.7063 - val_loss: 0.5828\n",
            "Epoch 26/200\n",
            "\u001b[1m62/62\u001b[0m \u001b[32m━━━━━━━━━━━━━━━━━━━━\u001b[0m\u001b[37m\u001b[0m \u001b[1m0s\u001b[0m 465us/step - accuracy: 0.7188 - loss: 0.5261 - val_accuracy: 0.6500 - val_loss: 0.6025\n",
            "Epoch 27/200\n",
            "\u001b[1m62/62\u001b[0m \u001b[32m━━━━━━━━━━━━━━━━━━━━\u001b[0m\u001b[37m\u001b[0m \u001b[1m7s\u001b[0m 98ms/step - accuracy: 0.7379 - loss: 0.5152 - val_accuracy: 0.7271 - val_loss: 0.5521\n",
            "Epoch 28/200\n",
            "\u001b[1m62/62\u001b[0m \u001b[32m━━━━━━━━━━━━━━━━━━━━\u001b[0m\u001b[37m\u001b[0m \u001b[1m0s\u001b[0m 393us/step - accuracy: 0.6562 - loss: 0.5446 - val_accuracy: 0.5000 - val_loss: 0.7273\n",
            "Epoch 29/200\n",
            "\u001b[1m62/62\u001b[0m \u001b[32m━━━━━━━━━━━━━━━━━━━━\u001b[0m\u001b[37m\u001b[0m \u001b[1m9s\u001b[0m 79ms/step - accuracy: 0.7643 - loss: 0.4913 - val_accuracy: 0.7146 - val_loss: 0.5606\n",
            "Epoch 30/200\n",
            "\u001b[1m62/62\u001b[0m \u001b[32m━━━━━━━━━━━━━━━━━━━━\u001b[0m\u001b[37m\u001b[0m \u001b[1m0s\u001b[0m 348us/step - accuracy: 0.6562 - loss: 0.6185 - val_accuracy: 0.6500 - val_loss: 0.6483\n",
            "Epoch 31/200\n",
            "\u001b[1m62/62\u001b[0m \u001b[32m━━━━━━━━━━━━━━━━━━━━\u001b[0m\u001b[37m\u001b[0m \u001b[1m10s\u001b[0m 75ms/step - accuracy: 0.7459 - loss: 0.5130 - val_accuracy: 0.7104 - val_loss: 0.5639\n",
            "Epoch 32/200\n",
            "\u001b[1m62/62\u001b[0m \u001b[32m━━━━━━━━━━━━━━━━━━━━\u001b[0m\u001b[37m\u001b[0m \u001b[1m0s\u001b[0m 491us/step - accuracy: 0.8125 - loss: 0.5668 - val_accuracy: 0.8500 - val_loss: 0.5293\n",
            "Epoch 33/200\n",
            "\u001b[1m62/62\u001b[0m \u001b[32m━━━━━━━━━━━━━━━━━━━━\u001b[0m\u001b[37m\u001b[0m \u001b[1m7s\u001b[0m 99ms/step - accuracy: 0.7726 - loss: 0.4903 - val_accuracy: 0.7437 - val_loss: 0.5539\n",
            "Epoch 34/200\n",
            "\u001b[1m62/62\u001b[0m \u001b[32m━━━━━━━━━━━━━━━━━━━━\u001b[0m\u001b[37m\u001b[0m \u001b[1m0s\u001b[0m 1ms/step - accuracy: 0.8438 - loss: 0.4411 - val_accuracy: 0.7000 - val_loss: 0.6680\n",
            "Epoch 35/200\n",
            "\u001b[1m62/62\u001b[0m \u001b[32m━━━━━━━━━━━━━━━━━━━━\u001b[0m\u001b[37m\u001b[0m \u001b[1m5s\u001b[0m 75ms/step - accuracy: 0.7557 - loss: 0.4935 - val_accuracy: 0.7292 - val_loss: 0.5619\n",
            "Epoch 36/200\n",
            "\u001b[1m62/62\u001b[0m \u001b[32m━━━━━━━━━━━━━━━━━━━━\u001b[0m\u001b[37m\u001b[0m \u001b[1m0s\u001b[0m 385us/step - accuracy: 0.8125 - loss: 0.5021 - val_accuracy: 0.8000 - val_loss: 0.5326\n",
            "Epoch 37/200\n",
            "\u001b[1m62/62\u001b[0m \u001b[32m━━━━━━━━━━━━━━━━━━━━\u001b[0m\u001b[37m\u001b[0m \u001b[1m11s\u001b[0m 81ms/step - accuracy: 0.7638 - loss: 0.4940 - val_accuracy: 0.7521 - val_loss: 0.5171\n",
            "Epoch 38/200\n",
            "\u001b[1m62/62\u001b[0m \u001b[32m━━━━━━━━━━━━━━━━━━━━\u001b[0m\u001b[37m\u001b[0m \u001b[1m0s\u001b[0m 386us/step - accuracy: 0.7500 - loss: 0.5293 - val_accuracy: 0.8000 - val_loss: 0.5561\n",
            "Epoch 39/200\n",
            "\u001b[1m62/62\u001b[0m \u001b[32m━━━━━━━━━━━━━━━━━━━━\u001b[0m\u001b[37m\u001b[0m \u001b[1m11s\u001b[0m 98ms/step - accuracy: 0.7927 - loss: 0.4572 - val_accuracy: 0.7292 - val_loss: 0.5513\n",
            "Epoch 40/200\n",
            "\u001b[1m62/62\u001b[0m \u001b[32m━━━━━━━━━━━━━━━━━━━━\u001b[0m\u001b[37m\u001b[0m \u001b[1m0s\u001b[0m 378us/step - accuracy: 0.6250 - loss: 0.6616 - val_accuracy: 0.7500 - val_loss: 0.4958\n",
            "Epoch 41/200\n",
            "\u001b[1m62/62\u001b[0m \u001b[32m━━━━━━━━━━━━━━━━━━━━\u001b[0m\u001b[37m\u001b[0m \u001b[1m9s\u001b[0m 74ms/step - accuracy: 0.7874 - loss: 0.4510 - val_accuracy: 0.7604 - val_loss: 0.5303\n",
            "Epoch 42/200\n",
            "\u001b[1m62/62\u001b[0m \u001b[32m━━━━━━━━━━━━━━━━━━━━\u001b[0m\u001b[37m\u001b[0m \u001b[1m0s\u001b[0m 975us/step - accuracy: 0.7812 - loss: 0.4359 - val_accuracy: 0.8500 - val_loss: 0.4741\n",
            "Epoch 43/200\n",
            "\u001b[1m62/62\u001b[0m \u001b[32m━━━━━━━━━━━━━━━━━━━━\u001b[0m\u001b[37m\u001b[0m \u001b[1m6s\u001b[0m 92ms/step - accuracy: 0.7999 - loss: 0.4491 - val_accuracy: 0.7417 - val_loss: 0.5532\n",
            "Epoch 44/200\n",
            "\u001b[1m62/62\u001b[0m \u001b[32m━━━━━━━━━━━━━━━━━━━━\u001b[0m\u001b[37m\u001b[0m \u001b[1m0s\u001b[0m 394us/step - accuracy: 0.8438 - loss: 0.3842 - val_accuracy: 0.9000 - val_loss: 0.3960\n",
            "Epoch 45/200\n",
            "\u001b[1m62/62\u001b[0m \u001b[32m━━━━━━━━━━━━━━━━━━━━\u001b[0m\u001b[37m\u001b[0m \u001b[1m9s\u001b[0m 85ms/step - accuracy: 0.7813 - loss: 0.4663 - val_accuracy: 0.7708 - val_loss: 0.5207\n",
            "Epoch 46/200\n",
            "\u001b[1m62/62\u001b[0m \u001b[32m━━━━━━━━━━━━━━━━━━━━\u001b[0m\u001b[37m\u001b[0m \u001b[1m0s\u001b[0m 8ms/step - accuracy: 0.8438 - loss: 0.3949 - val_accuracy: 0.5500 - val_loss: 0.7243\n",
            "Epoch 47/200\n",
            "\u001b[1m62/62\u001b[0m \u001b[32m━━━━━━━━━━━━━━━━━━━━\u001b[0m\u001b[37m\u001b[0m \u001b[1m9s\u001b[0m 73ms/step - accuracy: 0.7972 - loss: 0.4308 - val_accuracy: 0.7688 - val_loss: 0.5078\n",
            "Epoch 48/200\n",
            "\u001b[1m62/62\u001b[0m \u001b[32m━━━━━━━━━━━━━━━━━━━━\u001b[0m\u001b[37m\u001b[0m \u001b[1m0s\u001b[0m 448us/step - accuracy: 0.7812 - loss: 0.4486 - val_accuracy: 0.8500 - val_loss: 0.3852\n",
            "Epoch 49/200\n",
            "\u001b[1m62/62\u001b[0m \u001b[32m━━━━━━━━━━━━━━━━━━━━\u001b[0m\u001b[37m\u001b[0m \u001b[1m6s\u001b[0m 98ms/step - accuracy: 0.8071 - loss: 0.4225 - val_accuracy: 0.7667 - val_loss: 0.5128\n",
            "Epoch 50/200\n",
            "\u001b[1m62/62\u001b[0m \u001b[32m━━━━━━━━━━━━━━━━━━━━\u001b[0m\u001b[37m\u001b[0m \u001b[1m0s\u001b[0m 1ms/step - accuracy: 0.8125 - loss: 0.4808 - val_accuracy: 0.9000 - val_loss: 0.3618\n",
            "Epoch 51/200\n",
            "\u001b[1m62/62\u001b[0m \u001b[32m━━━━━━━━━━━━━━━━━━━━\u001b[0m\u001b[37m\u001b[0m \u001b[1m5s\u001b[0m 74ms/step - accuracy: 0.7972 - loss: 0.4494 - val_accuracy: 0.7500 - val_loss: 0.5453\n",
            "Epoch 52/200\n",
            "\u001b[1m62/62\u001b[0m \u001b[32m━━━━━━━━━━━━━━━━━━━━\u001b[0m\u001b[37m\u001b[0m \u001b[1m0s\u001b[0m 848us/step - accuracy: 0.6875 - loss: 0.6255 - val_accuracy: 0.7500 - val_loss: 0.3900\n",
            "Epoch 53/200\n",
            "\u001b[1m62/62\u001b[0m \u001b[32m━━━━━━━━━━━━━━━━━━━━\u001b[0m\u001b[37m\u001b[0m \u001b[1m11s\u001b[0m 80ms/step - accuracy: 0.8164 - loss: 0.4068 - val_accuracy: 0.7750 - val_loss: 0.5038\n",
            "Epoch 54/200\n",
            "\u001b[1m62/62\u001b[0m \u001b[32m━━━━━━━━━━━━━━━━━━━━\u001b[0m\u001b[37m\u001b[0m \u001b[1m0s\u001b[0m 381us/step - accuracy: 0.7500 - loss: 0.4696 - val_accuracy: 0.7500 - val_loss: 0.4717\n",
            "Epoch 55/200\n",
            "\u001b[1m62/62\u001b[0m \u001b[32m━━━━━━━━━━━━━━━━━━━━\u001b[0m\u001b[37m\u001b[0m \u001b[1m5s\u001b[0m 76ms/step - accuracy: 0.7994 - loss: 0.4464 - val_accuracy: 0.7708 - val_loss: 0.5002\n",
            "Epoch 56/200\n",
            "\u001b[1m62/62\u001b[0m \u001b[32m━━━━━━━━━━━━━━━━━━━━\u001b[0m\u001b[37m\u001b[0m \u001b[1m0s\u001b[0m 983us/step - accuracy: 0.8438 - loss: 0.3464 - val_accuracy: 0.6000 - val_loss: 0.7354\n",
            "Epoch 57/200\n",
            "\u001b[1m62/62\u001b[0m \u001b[32m━━━━━━━━━━━━━━━━━━━━\u001b[0m\u001b[37m\u001b[0m \u001b[1m7s\u001b[0m 99ms/step - accuracy: 0.8107 - loss: 0.4093 - val_accuracy: 0.7750 - val_loss: 0.5035\n",
            "Epoch 58/200\n",
            "\u001b[1m62/62\u001b[0m \u001b[32m━━━━━━━━━━━━━━━━━━━━\u001b[0m\u001b[37m\u001b[0m \u001b[1m0s\u001b[0m 343us/step - accuracy: 0.6875 - loss: 0.5507 - val_accuracy: 0.8500 - val_loss: 0.4113\n",
            "Epoch 59/200\n",
            "\u001b[1m62/62\u001b[0m \u001b[32m━━━━━━━━━━━━━━━━━━━━\u001b[0m\u001b[37m\u001b[0m \u001b[1m5s\u001b[0m 75ms/step - accuracy: 0.7976 - loss: 0.4348 - val_accuracy: 0.7437 - val_loss: 0.5358\n",
            "Epoch 60/200\n",
            "\u001b[1m62/62\u001b[0m \u001b[32m━━━━━━━━━━━━━━━━━━━━\u001b[0m\u001b[37m\u001b[0m \u001b[1m0s\u001b[0m 430us/step - accuracy: 0.8438 - loss: 0.3902 - val_accuracy: 0.7500 - val_loss: 0.6310\n",
            "Epoch 61/200\n",
            "\u001b[1m62/62\u001b[0m \u001b[32m━━━━━━━━━━━━━━━━━━━━\u001b[0m\u001b[37m\u001b[0m \u001b[1m10s\u001b[0m 77ms/step - accuracy: 0.8088 - loss: 0.4039 - val_accuracy: 0.7500 - val_loss: 0.5311\n",
            "Epoch 62/200\n",
            "\u001b[1m62/62\u001b[0m \u001b[32m━━━━━━━━━━━━━━━━━━━━\u001b[0m\u001b[37m\u001b[0m \u001b[1m0s\u001b[0m 855us/step - accuracy: 0.7500 - loss: 0.5532 - val_accuracy: 0.7000 - val_loss: 0.4737\n",
            "Epoch 63/200\n",
            "\u001b[1m62/62\u001b[0m \u001b[32m━━━━━━━━━━━━━━━━━━━━\u001b[0m\u001b[37m\u001b[0m \u001b[1m11s\u001b[0m 90ms/step - accuracy: 0.8220 - loss: 0.4049 - val_accuracy: 0.7479 - val_loss: 0.5202\n",
            "Epoch 64/200\n",
            "\u001b[1m62/62\u001b[0m \u001b[32m━━━━━━━━━━━━━━━━━━━━\u001b[0m\u001b[37m\u001b[0m \u001b[1m0s\u001b[0m 869us/step - accuracy: 0.7812 - loss: 0.4981 - val_accuracy: 0.6500 - val_loss: 0.5646\n",
            "Epoch 65/200\n",
            "\u001b[1m62/62\u001b[0m \u001b[32m━━━━━━━━━━━━━━━━━━━━\u001b[0m\u001b[37m\u001b[0m \u001b[1m5s\u001b[0m 73ms/step - accuracy: 0.8268 - loss: 0.3960 - val_accuracy: 0.7896 - val_loss: 0.5147\n",
            "Epoch 66/200\n",
            "\u001b[1m62/62\u001b[0m \u001b[32m━━━━━━━━━━━━━━━━━━━━\u001b[0m\u001b[37m\u001b[0m \u001b[1m0s\u001b[0m 1ms/step - accuracy: 0.8438 - loss: 0.4661 - val_accuracy: 0.7500 - val_loss: 0.4933\n",
            "Epoch 67/200\n",
            "\u001b[1m62/62\u001b[0m \u001b[32m━━━━━━━━━━━━━━━━━━━━\u001b[0m\u001b[37m\u001b[0m \u001b[1m7s\u001b[0m 100ms/step - accuracy: 0.8244 - loss: 0.3908 - val_accuracy: 0.7792 - val_loss: 0.4820\n",
            "Epoch 68/200\n",
            "\u001b[1m62/62\u001b[0m \u001b[32m━━━━━━━━━━━━━━━━━━━━\u001b[0m\u001b[37m\u001b[0m \u001b[1m0s\u001b[0m 450us/step - accuracy: 0.9375 - loss: 0.2550 - val_accuracy: 0.9000 - val_loss: 0.4428\n",
            "Epoch 69/200\n",
            "\u001b[1m62/62\u001b[0m \u001b[32m━━━━━━━━━━━━━━━━━━━━\u001b[0m\u001b[37m\u001b[0m \u001b[1m9s\u001b[0m 74ms/step - accuracy: 0.8202 - loss: 0.3998 - val_accuracy: 0.7646 - val_loss: 0.4906\n",
            "Epoch 70/200\n",
            "\u001b[1m62/62\u001b[0m \u001b[32m━━━━━━━━━━━━━━━━━━━━\u001b[0m\u001b[37m\u001b[0m \u001b[1m0s\u001b[0m 417us/step - accuracy: 0.8750 - loss: 0.3478 - val_accuracy: 0.7000 - val_loss: 0.7409\n",
            "Epoch 71/200\n",
            "\u001b[1m62/62\u001b[0m \u001b[32m━━━━━━━━━━━━━━━━━━━━\u001b[0m\u001b[37m\u001b[0m \u001b[1m6s\u001b[0m 97ms/step - accuracy: 0.8375 - loss: 0.3826 - val_accuracy: 0.7750 - val_loss: 0.4964\n",
            "Epoch 72/200\n",
            "\u001b[1m62/62\u001b[0m \u001b[32m━━━━━━━━━━━━━━━━━━━━\u001b[0m\u001b[37m\u001b[0m \u001b[1m0s\u001b[0m 358us/step - accuracy: 0.9375 - loss: 0.3050 - val_accuracy: 0.8500 - val_loss: 0.5355\n",
            "Epoch 73/200\n",
            "\u001b[1m62/62\u001b[0m \u001b[32m━━━━━━━━━━━━━━━━━━━━\u001b[0m\u001b[37m\u001b[0m \u001b[1m5s\u001b[0m 73ms/step - accuracy: 0.8419 - loss: 0.3727 - val_accuracy: 0.7771 - val_loss: 0.4814\n",
            "Epoch 74/200\n",
            "\u001b[1m62/62\u001b[0m \u001b[32m━━━━━━━━━━━━━━━━━━━━\u001b[0m\u001b[37m\u001b[0m \u001b[1m0s\u001b[0m 1ms/step - accuracy: 0.7500 - loss: 0.3718 - val_accuracy: 0.7500 - val_loss: 0.5750\n",
            "Epoch 75/200\n",
            "\u001b[1m62/62\u001b[0m \u001b[32m━━━━━━━━━━━━━━━━━━━━\u001b[0m\u001b[37m\u001b[0m \u001b[1m6s\u001b[0m 93ms/step - accuracy: 0.8237 - loss: 0.3881 - val_accuracy: 0.7729 - val_loss: 0.4642\n",
            "Epoch 76/200\n",
            "\u001b[1m62/62\u001b[0m \u001b[32m━━━━━━━━━━━━━━━━━━━━\u001b[0m\u001b[37m\u001b[0m \u001b[1m0s\u001b[0m 455us/step - accuracy: 0.7500 - loss: 0.3598 - val_accuracy: 0.7000 - val_loss: 0.7907\n",
            "Epoch 77/200\n",
            "\u001b[1m62/62\u001b[0m \u001b[32m━━━━━━━━━━━━━━━━━━━━\u001b[0m\u001b[37m\u001b[0m \u001b[1m9s\u001b[0m 75ms/step - accuracy: 0.8124 - loss: 0.3833 - val_accuracy: 0.7937 - val_loss: 0.4744\n",
            "Epoch 78/200\n",
            "\u001b[1m62/62\u001b[0m \u001b[32m━━━━━━━━━━━━━━━━━━━━\u001b[0m\u001b[37m\u001b[0m \u001b[1m1s\u001b[0m 11ms/step - accuracy: 0.8125 - loss: 0.3980 - val_accuracy: 0.8000 - val_loss: 0.4798\n",
            "Epoch 79/200\n",
            "\u001b[1m62/62\u001b[0m \u001b[32m━━━━━━━━━━━━━━━━━━━━\u001b[0m\u001b[37m\u001b[0m \u001b[1m7s\u001b[0m 99ms/step - accuracy: 0.8697 - loss: 0.3330 - val_accuracy: 0.7833 - val_loss: 0.4857\n",
            "Epoch 80/200\n",
            "\u001b[1m62/62\u001b[0m \u001b[32m━━━━━━━━━━━━━━━━━━━━\u001b[0m\u001b[37m\u001b[0m \u001b[1m0s\u001b[0m 464us/step - accuracy: 0.9062 - loss: 0.3260 - val_accuracy: 0.8000 - val_loss: 0.4559\n",
            "Epoch 81/200\n",
            "\u001b[1m62/62\u001b[0m \u001b[32m━━━━━━━━━━━━━━━━━━━━\u001b[0m\u001b[37m\u001b[0m \u001b[1m5s\u001b[0m 72ms/step - accuracy: 0.8337 - loss: 0.3718 - val_accuracy: 0.7521 - val_loss: 0.5019\n",
            "Epoch 82/200\n",
            "\u001b[1m62/62\u001b[0m \u001b[32m━━━━━━━━━━━━━━━━━━━━\u001b[0m\u001b[37m\u001b[0m \u001b[1m0s\u001b[0m 1ms/step - accuracy: 0.7812 - loss: 0.4605 - val_accuracy: 0.8500 - val_loss: 0.3976\n",
            "Epoch 83/200\n",
            "\u001b[1m62/62\u001b[0m \u001b[32m━━━━━━━━━━━━━━━━━━━━\u001b[0m\u001b[37m\u001b[0m \u001b[1m6s\u001b[0m 90ms/step - accuracy: 0.8290 - loss: 0.3785 - val_accuracy: 0.7542 - val_loss: 0.5060\n",
            "Epoch 84/200\n",
            "\u001b[1m62/62\u001b[0m \u001b[32m━━━━━━━━━━━━━━━━━━━━\u001b[0m\u001b[37m\u001b[0m \u001b[1m0s\u001b[0m 800us/step - accuracy: 0.7188 - loss: 0.5104 - val_accuracy: 0.8500 - val_loss: 0.4001\n",
            "Epoch 85/200\n",
            "\u001b[1m62/62\u001b[0m \u001b[32m━━━━━━━━━━━━━━━━━━━━\u001b[0m\u001b[37m\u001b[0m \u001b[1m9s\u001b[0m 73ms/step - accuracy: 0.8343 - loss: 0.3808 - val_accuracy: 0.7771 - val_loss: 0.4754\n",
            "Epoch 86/200\n",
            "\u001b[1m62/62\u001b[0m \u001b[32m━━━━━━━━━━━━━━━━━━━━\u001b[0m\u001b[37m\u001b[0m \u001b[1m0s\u001b[0m 1ms/step - accuracy: 0.7500 - loss: 0.4589 - val_accuracy: 0.8500 - val_loss: 0.3602\n",
            "Epoch 87/200\n",
            "\u001b[1m62/62\u001b[0m \u001b[32m━━━━━━━━━━━━━━━━━━━━\u001b[0m\u001b[37m\u001b[0m \u001b[1m6s\u001b[0m 97ms/step - accuracy: 0.8523 - loss: 0.3387 - val_accuracy: 0.7896 - val_loss: 0.4635\n",
            "Epoch 88/200\n",
            "\u001b[1m62/62\u001b[0m \u001b[32m━━━━━━━━━━━━━━━━━━━━\u001b[0m\u001b[37m\u001b[0m \u001b[1m0s\u001b[0m 492us/step - accuracy: 0.9062 - loss: 0.2588 - val_accuracy: 0.8000 - val_loss: 0.3933\n",
            "Epoch 89/200\n",
            "\u001b[1m62/62\u001b[0m \u001b[32m━━━━━━━━━━━━━━━━━━━━\u001b[0m\u001b[37m\u001b[0m \u001b[1m5s\u001b[0m 73ms/step - accuracy: 0.8426 - loss: 0.3617 - val_accuracy: 0.7708 - val_loss: 0.5412\n",
            "Epoch 90/200\n",
            "\u001b[1m62/62\u001b[0m \u001b[32m━━━━━━━━━━━━━━━━━━━━\u001b[0m\u001b[37m\u001b[0m \u001b[1m0s\u001b[0m 306us/step - accuracy: 0.7188 - loss: 0.4592 - val_accuracy: 0.7000 - val_loss: 0.5184\n",
            "Epoch 91/200\n",
            "\u001b[1m62/62\u001b[0m \u001b[32m━━━━━━━━━━━━━━━━━━━━\u001b[0m\u001b[37m\u001b[0m \u001b[1m6s\u001b[0m 85ms/step - accuracy: 0.8562 - loss: 0.3429 - val_accuracy: 0.7958 - val_loss: 0.4703\n",
            "Epoch 92/200\n",
            "\u001b[1m62/62\u001b[0m \u001b[32m━━━━━━━━━━━━━━━━━━━━\u001b[0m\u001b[37m\u001b[0m \u001b[1m0s\u001b[0m 454us/step - accuracy: 0.8125 - loss: 0.3458 - val_accuracy: 0.7000 - val_loss: 0.4771\n",
            "Epoch 93/200\n",
            "\u001b[1m62/62\u001b[0m \u001b[32m━━━━━━━━━━━━━━━━━━━━\u001b[0m\u001b[37m\u001b[0m \u001b[1m9s\u001b[0m 72ms/step - accuracy: 0.8433 - loss: 0.3349 - val_accuracy: 0.7771 - val_loss: 0.4737\n",
            "Epoch 94/200\n",
            "\u001b[1m62/62\u001b[0m \u001b[32m━━━━━━━━━━━━━━━━━━━━\u001b[0m\u001b[37m\u001b[0m \u001b[1m0s\u001b[0m 396us/step - accuracy: 0.8438 - loss: 0.3044 - val_accuracy: 0.8000 - val_loss: 0.3457\n",
            "Epoch 95/200\n",
            "\u001b[1m62/62\u001b[0m \u001b[32m━━━━━━━━━━━━━━━━━━━━\u001b[0m\u001b[37m\u001b[0m \u001b[1m7s\u001b[0m 97ms/step - accuracy: 0.8507 - loss: 0.3483 - val_accuracy: 0.7750 - val_loss: 0.4914\n",
            "Epoch 96/200\n",
            "\u001b[1m62/62\u001b[0m \u001b[32m━━━━━━━━━━━━━━━━━━━━\u001b[0m\u001b[37m\u001b[0m \u001b[1m0s\u001b[0m 396us/step - accuracy: 0.8438 - loss: 0.4750 - val_accuracy: 0.7500 - val_loss: 0.6244\n",
            "Epoch 97/200\n",
            "\u001b[1m62/62\u001b[0m \u001b[32m━━━━━━━━━━━━━━━━━━━━\u001b[0m\u001b[37m\u001b[0m \u001b[1m9s\u001b[0m 72ms/step - accuracy: 0.8444 - loss: 0.3454 - val_accuracy: 0.7833 - val_loss: 0.4534\n",
            "Epoch 98/200\n",
            "\u001b[1m62/62\u001b[0m \u001b[32m━━━━━━━━━━━━━━━━━━━━\u001b[0m\u001b[37m\u001b[0m \u001b[1m0s\u001b[0m 328us/step - accuracy: 0.7812 - loss: 0.3731 - val_accuracy: 0.8000 - val_loss: 0.5985\n",
            "Epoch 99/200\n",
            "\u001b[1m62/62\u001b[0m \u001b[32m━━━━━━━━━━━━━━━━━━━━\u001b[0m\u001b[37m\u001b[0m \u001b[1m6s\u001b[0m 92ms/step - accuracy: 0.8528 - loss: 0.3226 - val_accuracy: 0.7771 - val_loss: 0.4831\n",
            "Epoch 100/200\n",
            "\u001b[1m62/62\u001b[0m \u001b[32m━━━━━━━━━━━━━━━━━━━━\u001b[0m\u001b[37m\u001b[0m \u001b[1m0s\u001b[0m 1ms/step - accuracy: 0.8750 - loss: 0.2498 - val_accuracy: 0.7500 - val_loss: 0.4343\n",
            "Epoch 101/200\n",
            "\u001b[1m62/62\u001b[0m \u001b[32m━━━━━━━━━━━━━━━━━━━━\u001b[0m\u001b[37m\u001b[0m \u001b[1m5s\u001b[0m 73ms/step - accuracy: 0.8461 - loss: 0.3334 - val_accuracy: 0.8000 - val_loss: 0.4576\n",
            "Epoch 102/200\n",
            "\u001b[1m62/62\u001b[0m \u001b[32m━━━━━━━━━━━━━━━━━━━━\u001b[0m\u001b[37m\u001b[0m \u001b[1m0s\u001b[0m 428us/step - accuracy: 0.8750 - loss: 0.2730 - val_accuracy: 0.8000 - val_loss: 0.3892\n",
            "Epoch 103/200\n",
            "\u001b[1m62/62\u001b[0m \u001b[32m━━━━━━━━━━━━━━━━━━━━\u001b[0m\u001b[37m\u001b[0m \u001b[1m6s\u001b[0m 95ms/step - accuracy: 0.8538 - loss: 0.3437 - val_accuracy: 0.7854 - val_loss: 0.4835\n",
            "Epoch 104/200\n",
            "\u001b[1m62/62\u001b[0m \u001b[32m━━━━━━━━━━━━━━━━━━━━\u001b[0m\u001b[37m\u001b[0m \u001b[1m0s\u001b[0m 715us/step - accuracy: 0.9375 - loss: 0.2033 - val_accuracy: 1.0000 - val_loss: 0.1673\n",
            "Epoch 105/200\n",
            "\u001b[1m62/62\u001b[0m \u001b[32m━━━━━━━━━━━━━━━━━━━━\u001b[0m\u001b[37m\u001b[0m \u001b[1m9s\u001b[0m 72ms/step - accuracy: 0.8571 - loss: 0.3344 - val_accuracy: 0.8083 - val_loss: 0.4660\n",
            "Epoch 106/200\n",
            "\u001b[1m62/62\u001b[0m \u001b[32m━━━━━━━━━━━━━━━━━━━━\u001b[0m\u001b[37m\u001b[0m \u001b[1m0s\u001b[0m 411us/step - accuracy: 0.9062 - loss: 0.3403 - val_accuracy: 0.6500 - val_loss: 0.5405\n",
            "Epoch 107/200\n",
            "\u001b[1m62/62\u001b[0m \u001b[32m━━━━━━━━━━━━━━━━━━━━\u001b[0m\u001b[37m\u001b[0m \u001b[1m7s\u001b[0m 97ms/step - accuracy: 0.8613 - loss: 0.3120 - val_accuracy: 0.8042 - val_loss: 0.4483\n",
            "Epoch 108/200\n",
            "\u001b[1m62/62\u001b[0m \u001b[32m━━━━━━━━━━━━━━━━━━━━\u001b[0m\u001b[37m\u001b[0m \u001b[1m0s\u001b[0m 324us/step - accuracy: 0.9375 - loss: 0.1911 - val_accuracy: 0.7000 - val_loss: 0.6494\n",
            "Epoch 109/200\n",
            "\u001b[1m62/62\u001b[0m \u001b[32m━━━━━━━━━━━━━━━━━━━━\u001b[0m\u001b[37m\u001b[0m \u001b[1m5s\u001b[0m 71ms/step - accuracy: 0.8798 - loss: 0.2817 - val_accuracy: 0.7979 - val_loss: 0.4663\n",
            "Epoch 110/200\n",
            "\u001b[1m62/62\u001b[0m \u001b[32m━━━━━━━━━━━━━━━━━━━━\u001b[0m\u001b[37m\u001b[0m \u001b[1m0s\u001b[0m 266us/step - accuracy: 0.8438 - loss: 0.4293 - val_accuracy: 0.8500 - val_loss: 0.4621\n",
            "Epoch 111/200\n",
            "\u001b[1m62/62\u001b[0m \u001b[32m━━━━━━━━━━━━━━━━━━━━\u001b[0m\u001b[37m\u001b[0m \u001b[1m6s\u001b[0m 82ms/step - accuracy: 0.8438 - loss: 0.3570 - val_accuracy: 0.8062 - val_loss: 0.4465\n",
            "Epoch 112/200\n",
            "\u001b[1m62/62\u001b[0m \u001b[32m━━━━━━━━━━━━━━━━━━━━\u001b[0m\u001b[37m\u001b[0m \u001b[1m0s\u001b[0m 8ms/step - accuracy: 0.8438 - loss: 0.2453 - val_accuracy: 0.8500 - val_loss: 0.5819\n",
            "Epoch 113/200\n",
            "\u001b[1m62/62\u001b[0m \u001b[32m━━━━━━━━━━━━━━━━━━━━\u001b[0m\u001b[37m\u001b[0m \u001b[1m5s\u001b[0m 75ms/step - accuracy: 0.8772 - loss: 0.2919 - val_accuracy: 0.7896 - val_loss: 0.4783\n",
            "Epoch 114/200\n",
            "\u001b[1m62/62\u001b[0m \u001b[32m━━━━━━━━━━━━━━━━━━━━\u001b[0m\u001b[37m\u001b[0m \u001b[1m0s\u001b[0m 410us/step - accuracy: 0.8750 - loss: 0.2570 - val_accuracy: 0.8500 - val_loss: 0.3120\n",
            "Epoch 115/200\n",
            "\u001b[1m62/62\u001b[0m \u001b[32m━━━━━━━━━━━━━━━━━━━━\u001b[0m\u001b[37m\u001b[0m \u001b[1m11s\u001b[0m 95ms/step - accuracy: 0.8561 - loss: 0.3217 - val_accuracy: 0.7792 - val_loss: 0.4676\n",
            "Epoch 116/200\n",
            "\u001b[1m62/62\u001b[0m \u001b[32m━━━━━━━━━━━━━━━━━━━━\u001b[0m\u001b[37m\u001b[0m \u001b[1m0s\u001b[0m 321us/step - accuracy: 0.8750 - loss: 0.2797 - val_accuracy: 0.8500 - val_loss: 0.3972\n",
            "Epoch 117/200\n",
            "\u001b[1m62/62\u001b[0m \u001b[32m━━━━━━━━━━━━━━━━━━━━\u001b[0m\u001b[37m\u001b[0m \u001b[1m5s\u001b[0m 72ms/step - accuracy: 0.8657 - loss: 0.3072 - val_accuracy: 0.8042 - val_loss: 0.4484\n",
            "Epoch 118/200\n",
            "\u001b[1m62/62\u001b[0m \u001b[32m━━━━━━━━━━━━━━━━━━━━\u001b[0m\u001b[37m\u001b[0m \u001b[1m0s\u001b[0m 359us/step - accuracy: 0.8750 - loss: 0.2557 - val_accuracy: 0.8000 - val_loss: 0.4857\n",
            "Epoch 119/200\n",
            "\u001b[1m62/62\u001b[0m \u001b[32m━━━━━━━━━━━━━━━━━━━━\u001b[0m\u001b[37m\u001b[0m \u001b[1m6s\u001b[0m 88ms/step - accuracy: 0.8761 - loss: 0.2822 - val_accuracy: 0.8042 - val_loss: 0.4689\n",
            "Epoch 120/200\n",
            "\u001b[1m62/62\u001b[0m \u001b[32m━━━━━━━━━━━━━━━━━━━━\u001b[0m\u001b[37m\u001b[0m \u001b[1m0s\u001b[0m 7ms/step - accuracy: 0.8750 - loss: 0.2920 - val_accuracy: 0.7500 - val_loss: 0.5952\n",
            "Epoch 121/200\n",
            "\u001b[1m62/62\u001b[0m \u001b[32m━━━━━━━━━━━━━━━━━━━━\u001b[0m\u001b[37m\u001b[0m \u001b[1m5s\u001b[0m 74ms/step - accuracy: 0.8772 - loss: 0.2948 - val_accuracy: 0.7771 - val_loss: 0.4806\n",
            "Epoch 122/200\n",
            "\u001b[1m62/62\u001b[0m \u001b[32m━━━━━━━━━━━━━━━━━━━━\u001b[0m\u001b[37m\u001b[0m \u001b[1m0s\u001b[0m 303us/step - accuracy: 0.7500 - loss: 0.4353 - val_accuracy: 0.6000 - val_loss: 0.8691\n",
            "Epoch 123/200\n",
            "\u001b[1m62/62\u001b[0m \u001b[32m━━━━━━━━━━━━━━━━━━━━\u001b[0m\u001b[37m\u001b[0m \u001b[1m5s\u001b[0m 74ms/step - accuracy: 0.8720 - loss: 0.2769 - val_accuracy: 0.7917 - val_loss: 0.4522\n",
            "Epoch 124/200\n",
            "\u001b[1m62/62\u001b[0m \u001b[32m━━━━━━━━━━━━━━━━━━━━\u001b[0m\u001b[37m\u001b[0m \u001b[1m0s\u001b[0m 359us/step - accuracy: 0.9375 - loss: 0.1919 - val_accuracy: 0.9000 - val_loss: 0.3348\n",
            "Epoch 125/200\n",
            "\u001b[1m62/62\u001b[0m \u001b[32m━━━━━━━━━━━━━━━━━━━━\u001b[0m\u001b[37m\u001b[0m \u001b[1m10s\u001b[0m 72ms/step - accuracy: 0.8694 - loss: 0.2835 - val_accuracy: 0.7917 - val_loss: 0.4834\n",
            "Epoch 126/200\n",
            "\u001b[1m62/62\u001b[0m \u001b[32m━━━━━━━━━━━━━━━━━━━━\u001b[0m\u001b[37m\u001b[0m \u001b[1m0s\u001b[0m 1ms/step - accuracy: 0.9062 - loss: 0.2474 - val_accuracy: 0.8500 - val_loss: 0.3076\n",
            "Epoch 127/200\n",
            "\u001b[1m62/62\u001b[0m \u001b[32m━━━━━━━━━━━━━━━━━━━━\u001b[0m\u001b[37m\u001b[0m \u001b[1m6s\u001b[0m 96ms/step - accuracy: 0.8737 - loss: 0.2970 - val_accuracy: 0.7937 - val_loss: 0.4572\n",
            "Epoch 128/200\n",
            "\u001b[1m62/62\u001b[0m \u001b[32m━━━━━━━━━━━━━━━━━━━━\u001b[0m\u001b[37m\u001b[0m \u001b[1m0s\u001b[0m 590us/step - accuracy: 0.8750 - loss: 0.3664 - val_accuracy: 0.8500 - val_loss: 0.6427\n",
            "Epoch 129/200\n",
            "\u001b[1m62/62\u001b[0m \u001b[32m━━━━━━━━━━━━━━━━━━━━\u001b[0m\u001b[37m\u001b[0m \u001b[1m5s\u001b[0m 72ms/step - accuracy: 0.8739 - loss: 0.2814 - val_accuracy: 0.7812 - val_loss: 0.4928\n",
            "Epoch 130/200\n",
            "\u001b[1m62/62\u001b[0m \u001b[32m━━━━━━━━━━━━━━━━━━━━\u001b[0m\u001b[37m\u001b[0m \u001b[1m0s\u001b[0m 1ms/step - accuracy: 0.8438 - loss: 0.3661 - val_accuracy: 0.8000 - val_loss: 0.3885\n",
            "Epoch 131/200\n",
            "\u001b[1m62/62\u001b[0m \u001b[32m━━━━━━━━━━━━━━━━━━━━\u001b[0m\u001b[37m\u001b[0m \u001b[1m5s\u001b[0m 72ms/step - accuracy: 0.8686 - loss: 0.2898 - val_accuracy: 0.7875 - val_loss: 0.4739\n",
            "Epoch 132/200\n",
            "\u001b[1m62/62\u001b[0m \u001b[32m━━━━━━━━━━━━━━━━━━━━\u001b[0m\u001b[37m\u001b[0m \u001b[1m0s\u001b[0m 1ms/step - accuracy: 0.9688 - loss: 0.2249 - val_accuracy: 0.8000 - val_loss: 0.4480\n",
            "Epoch 133/200\n",
            "\u001b[1m62/62\u001b[0m \u001b[32m━━━━━━━━━━━━━━━━━━━━\u001b[0m\u001b[37m\u001b[0m \u001b[1m6s\u001b[0m 91ms/step - accuracy: 0.8859 - loss: 0.2911 - val_accuracy: 0.7812 - val_loss: 0.4771\n",
            "Epoch 134/200\n",
            "\u001b[1m62/62\u001b[0m \u001b[32m━━━━━━━━━━━━━━━━━━━━\u001b[0m\u001b[37m\u001b[0m \u001b[1m0s\u001b[0m 1ms/step - accuracy: 0.7812 - loss: 0.3666 - val_accuracy: 0.8000 - val_loss: 0.5278\n",
            "Epoch 135/200\n",
            "\u001b[1m62/62\u001b[0m \u001b[32m━━━━━━━━━━━━━━━━━━━━\u001b[0m\u001b[37m\u001b[0m \u001b[1m5s\u001b[0m 73ms/step - accuracy: 0.8717 - loss: 0.2903 - val_accuracy: 0.7958 - val_loss: 0.4443\n",
            "Epoch 136/200\n",
            "\u001b[1m62/62\u001b[0m \u001b[32m━━━━━━━━━━━━━━━━━━━━\u001b[0m\u001b[37m\u001b[0m \u001b[1m0s\u001b[0m 1ms/step - accuracy: 0.8750 - loss: 0.3157 - val_accuracy: 0.7000 - val_loss: 0.7720\n",
            "Epoch 137/200\n",
            "\u001b[1m62/62\u001b[0m \u001b[32m━━━━━━━━━━━━━━━━━━━━\u001b[0m\u001b[37m\u001b[0m \u001b[1m6s\u001b[0m 96ms/step - accuracy: 0.8864 - loss: 0.2913 - val_accuracy: 0.8021 - val_loss: 0.4676\n",
            "Epoch 138/200\n",
            "\u001b[1m62/62\u001b[0m \u001b[32m━━━━━━━━━━━━━━━━━━━━\u001b[0m\u001b[37m\u001b[0m \u001b[1m0s\u001b[0m 7ms/step - accuracy: 1.0000 - loss: 0.1706 - val_accuracy: 0.8500 - val_loss: 0.3539\n",
            "Epoch 139/200\n",
            "\u001b[1m62/62\u001b[0m \u001b[32m━━━━━━━━━━━━━━━━━━━━\u001b[0m\u001b[37m\u001b[0m \u001b[1m5s\u001b[0m 73ms/step - accuracy: 0.8889 - loss: 0.2578 - val_accuracy: 0.8021 - val_loss: 0.4548\n",
            "Epoch 140/200\n",
            "\u001b[1m62/62\u001b[0m \u001b[32m━━━━━━━━━━━━━━━━━━━━\u001b[0m\u001b[37m\u001b[0m \u001b[1m0s\u001b[0m 1ms/step - accuracy: 0.9062 - loss: 0.2468 - val_accuracy: 0.7000 - val_loss: 0.7342\n",
            "Epoch 141/200\n",
            "\u001b[1m62/62\u001b[0m \u001b[32m━━━━━━━━━━━━━━━━━━━━\u001b[0m\u001b[37m\u001b[0m \u001b[1m5s\u001b[0m 77ms/step - accuracy: 0.8835 - loss: 0.2734 - val_accuracy: 0.8125 - val_loss: 0.4392\n",
            "Epoch 142/200\n",
            "\u001b[1m62/62\u001b[0m \u001b[32m━━━━━━━━━━━━━━━━━━━━\u001b[0m\u001b[37m\u001b[0m \u001b[1m1s\u001b[0m 8ms/step - accuracy: 0.9062 - loss: 0.2102 - val_accuracy: 0.7500 - val_loss: 0.3627\n",
            "Epoch 143/200\n",
            "\u001b[1m62/62\u001b[0m \u001b[32m━━━━━━━━━━━━━━━━━━━━\u001b[0m\u001b[37m\u001b[0m \u001b[1m6s\u001b[0m 85ms/step - accuracy: 0.8796 - loss: 0.2911 - val_accuracy: 0.8021 - val_loss: 0.4420\n",
            "Epoch 144/200\n",
            "\u001b[1m62/62\u001b[0m \u001b[32m━━━━━━━━━━━━━━━━━━━━\u001b[0m\u001b[37m\u001b[0m \u001b[1m0s\u001b[0m 368us/step - accuracy: 0.8438 - loss: 0.2668 - val_accuracy: 0.9000 - val_loss: 0.4115\n",
            "Epoch 145/200\n",
            "\u001b[1m62/62\u001b[0m \u001b[32m━━━━━━━━━━━━━━━━━━━━\u001b[0m\u001b[37m\u001b[0m \u001b[1m11s\u001b[0m 97ms/step - accuracy: 0.8907 - loss: 0.2633 - val_accuracy: 0.8125 - val_loss: 0.4516\n",
            "Epoch 146/200\n",
            "\u001b[1m62/62\u001b[0m \u001b[32m━━━━━━━━━━━━━━━━━━━━\u001b[0m\u001b[37m\u001b[0m \u001b[1m0s\u001b[0m 637us/step - accuracy: 0.7812 - loss: 0.5028 - val_accuracy: 0.8000 - val_loss: 0.6568\n",
            "Epoch 147/200\n",
            "\u001b[1m62/62\u001b[0m \u001b[32m━━━━━━━━━━━━━━━━━━━━\u001b[0m\u001b[37m\u001b[0m \u001b[1m5s\u001b[0m 73ms/step - accuracy: 0.8702 - loss: 0.3000 - val_accuracy: 0.7979 - val_loss: 0.4460\n",
            "Epoch 148/200\n",
            "\u001b[1m62/62\u001b[0m \u001b[32m━━━━━━━━━━━━━━━━━━━━\u001b[0m\u001b[37m\u001b[0m \u001b[1m0s\u001b[0m 1ms/step - accuracy: 0.9062 - loss: 0.2657 - val_accuracy: 0.9000 - val_loss: 0.4794\n",
            "Epoch 149/200\n",
            "\u001b[1m62/62\u001b[0m \u001b[32m━━━━━━━━━━━━━━━━━━━━\u001b[0m\u001b[37m\u001b[0m \u001b[1m5s\u001b[0m 73ms/step - accuracy: 0.8900 - loss: 0.2478 - val_accuracy: 0.8042 - val_loss: 0.4536\n",
            "Epoch 150/200\n",
            "\u001b[1m62/62\u001b[0m \u001b[32m━━━━━━━━━━━━━━━━━━━━\u001b[0m\u001b[37m\u001b[0m \u001b[1m0s\u001b[0m 1ms/step - accuracy: 0.8438 - loss: 0.2792 - val_accuracy: 0.9000 - val_loss: 0.2069\n",
            "Epoch 151/200\n",
            "\u001b[1m62/62\u001b[0m \u001b[32m━━━━━━━━━━━━━━━━━━━━\u001b[0m\u001b[37m\u001b[0m \u001b[1m6s\u001b[0m 93ms/step - accuracy: 0.8731 - loss: 0.2689 - val_accuracy: 0.7917 - val_loss: 0.4913\n",
            "Epoch 152/200\n",
            "\u001b[1m62/62\u001b[0m \u001b[32m━━━━━━━━━━━━━━━━━━━━\u001b[0m\u001b[37m\u001b[0m \u001b[1m0s\u001b[0m 447us/step - accuracy: 0.9688 - loss: 0.1909 - val_accuracy: 0.9000 - val_loss: 0.3104\n",
            "Epoch 153/200\n",
            "\u001b[1m62/62\u001b[0m \u001b[32m━━━━━━━━━━━━━━━━━━━━\u001b[0m\u001b[37m\u001b[0m \u001b[1m5s\u001b[0m 74ms/step - accuracy: 0.8696 - loss: 0.2872 - val_accuracy: 0.7979 - val_loss: 0.4585\n",
            "Epoch 154/200\n",
            "\u001b[1m62/62\u001b[0m \u001b[32m━━━━━━━━━━━━━━━━━━━━\u001b[0m\u001b[37m\u001b[0m \u001b[1m0s\u001b[0m 500us/step - accuracy: 0.9375 - loss: 0.1584 - val_accuracy: 0.8000 - val_loss: 0.3735\n",
            "Epoch 155/200\n",
            "\u001b[1m62/62\u001b[0m \u001b[32m━━━━━━━━━━━━━━━━━━━━\u001b[0m\u001b[37m\u001b[0m \u001b[1m10s\u001b[0m 74ms/step - accuracy: 0.8952 - loss: 0.2663 - val_accuracy: 0.7583 - val_loss: 0.5365\n",
            "Epoch 156/200\n",
            "\u001b[1m62/62\u001b[0m \u001b[32m━━━━━━━━━━━━━━━━━━━━\u001b[0m\u001b[37m\u001b[0m \u001b[1m0s\u001b[0m 867us/step - accuracy: 0.9062 - loss: 0.1622 - val_accuracy: 0.8000 - val_loss: 0.3526\n",
            "Epoch 157/200\n",
            "\u001b[1m62/62\u001b[0m \u001b[32m━━━━━━━━━━━━━━━━━━━━\u001b[0m\u001b[37m\u001b[0m \u001b[1m5s\u001b[0m 81ms/step - accuracy: 0.8546 - loss: 0.3095 - val_accuracy: 0.7979 - val_loss: 0.4576\n",
            "Epoch 158/200\n",
            "\u001b[1m62/62\u001b[0m \u001b[32m━━━━━━━━━━━━━━━━━━━━\u001b[0m\u001b[37m\u001b[0m \u001b[1m0s\u001b[0m 619us/step - accuracy: 0.8750 - loss: 0.2151 - val_accuracy: 0.9500 - val_loss: 0.2114\n",
            "Epoch 159/200\n",
            "\u001b[1m62/62\u001b[0m \u001b[32m━━━━━━━━━━━━━━━━━━━━\u001b[0m\u001b[37m\u001b[0m \u001b[1m10s\u001b[0m 73ms/step - accuracy: 0.8858 - loss: 0.2579 - val_accuracy: 0.8083 - val_loss: 0.4567\n",
            "Epoch 160/200\n",
            "\u001b[1m62/62\u001b[0m \u001b[32m━━━━━━━━━━━━━━━━━━━━\u001b[0m\u001b[37m\u001b[0m \u001b[1m0s\u001b[0m 376us/step - accuracy: 0.8438 - loss: 0.2958 - val_accuracy: 0.7000 - val_loss: 0.5014\n",
            "Epoch 161/200\n",
            "\u001b[1m62/62\u001b[0m \u001b[32m━━━━━━━━━━━━━━━━━━━━\u001b[0m\u001b[37m\u001b[0m \u001b[1m6s\u001b[0m 96ms/step - accuracy: 0.9069 - loss: 0.2260 - val_accuracy: 0.8188 - val_loss: 0.4468\n",
            "Epoch 162/200\n",
            "\u001b[1m62/62\u001b[0m \u001b[32m━━━━━━━━━━━━━━━━━━━━\u001b[0m\u001b[37m\u001b[0m \u001b[1m0s\u001b[0m 1ms/step - accuracy: 0.9375 - loss: 0.2242 - val_accuracy: 0.6500 - val_loss: 0.4602\n",
            "Epoch 163/200\n",
            "\u001b[1m62/62\u001b[0m \u001b[32m━━━━━━━━━━━━━━━━━━━━\u001b[0m\u001b[37m\u001b[0m \u001b[1m5s\u001b[0m 74ms/step - accuracy: 0.8939 - loss: 0.2397 - val_accuracy: 0.8146 - val_loss: 0.4278\n",
            "Epoch 164/200\n",
            "\u001b[1m62/62\u001b[0m \u001b[32m━━━━━━━━━━━━━━━━━━━━\u001b[0m\u001b[37m\u001b[0m \u001b[1m0s\u001b[0m 402us/step - accuracy: 0.8750 - loss: 0.2229 - val_accuracy: 0.7000 - val_loss: 0.6650\n",
            "Epoch 165/200\n",
            "\u001b[1m62/62\u001b[0m \u001b[32m━━━━━━━━━━━━━━━━━━━━\u001b[0m\u001b[37m\u001b[0m \u001b[1m6s\u001b[0m 82ms/step - accuracy: 0.8875 - loss: 0.2669 - val_accuracy: 0.8062 - val_loss: 0.4392\n",
            "Epoch 166/200\n",
            "\u001b[1m62/62\u001b[0m \u001b[32m━━━━━━━━━━━━━━━━━━━━\u001b[0m\u001b[37m\u001b[0m \u001b[1m0s\u001b[0m 414us/step - accuracy: 0.8750 - loss: 0.3015 - val_accuracy: 0.8000 - val_loss: 0.4841\n",
            "Epoch 167/200\n",
            "\u001b[1m62/62\u001b[0m \u001b[32m━━━━━━━━━━━━━━━━━━━━\u001b[0m\u001b[37m\u001b[0m \u001b[1m6s\u001b[0m 84ms/step - accuracy: 0.9064 - loss: 0.2255 - val_accuracy: 0.8000 - val_loss: 0.4742\n",
            "Epoch 168/200\n",
            "\u001b[1m62/62\u001b[0m \u001b[32m━━━━━━━━━━━━━━━━━━━━\u001b[0m\u001b[37m\u001b[0m \u001b[1m0s\u001b[0m 742us/step - accuracy: 0.9375 - loss: 0.1857 - val_accuracy: 0.8500 - val_loss: 0.3307\n",
            "Epoch 169/200\n",
            "\u001b[1m62/62\u001b[0m \u001b[32m━━━━━━━━━━━━━━━━━━━━\u001b[0m\u001b[37m\u001b[0m \u001b[1m11s\u001b[0m 97ms/step - accuracy: 0.8954 - loss: 0.2506 - val_accuracy: 0.8125 - val_loss: 0.4500\n",
            "Epoch 170/200\n",
            "\u001b[1m62/62\u001b[0m \u001b[32m━━━━━━━━━━━━━━━━━━━━\u001b[0m\u001b[37m\u001b[0m \u001b[1m0s\u001b[0m 8ms/step - accuracy: 0.9375 - loss: 0.2218 - val_accuracy: 0.7500 - val_loss: 0.7481\n",
            "Epoch 171/200\n",
            "\u001b[1m62/62\u001b[0m \u001b[32m━━━━━━━━━━━━━━━━━━━━\u001b[0m\u001b[37m\u001b[0m \u001b[1m5s\u001b[0m 73ms/step - accuracy: 0.9062 - loss: 0.2259 - val_accuracy: 0.8000 - val_loss: 0.4598\n",
            "Epoch 172/200\n",
            "\u001b[1m62/62\u001b[0m \u001b[32m━━━━━━━━━━━━━━━━━━━━\u001b[0m\u001b[37m\u001b[0m \u001b[1m0s\u001b[0m 1ms/step - accuracy: 0.9375 - loss: 0.1940 - val_accuracy: 0.8500 - val_loss: 0.4258\n",
            "Epoch 173/200\n",
            "\u001b[1m62/62\u001b[0m \u001b[32m━━━━━━━━━━━━━━━━━━━━\u001b[0m\u001b[37m\u001b[0m \u001b[1m5s\u001b[0m 78ms/step - accuracy: 0.8928 - loss: 0.2536 - val_accuracy: 0.7958 - val_loss: 0.4608\n",
            "Epoch 174/200\n",
            "\u001b[1m62/62\u001b[0m \u001b[32m━━━━━━━━━━━━━━━━━━━━\u001b[0m\u001b[37m\u001b[0m \u001b[1m0s\u001b[0m 663us/step - accuracy: 0.8750 - loss: 0.3507 - val_accuracy: 0.9000 - val_loss: 0.2349\n",
            "Epoch 175/200\n",
            "\u001b[1m62/62\u001b[0m \u001b[32m━━━━━━━━━━━━━━━━━━━━\u001b[0m\u001b[37m\u001b[0m \u001b[1m6s\u001b[0m 84ms/step - accuracy: 0.9008 - loss: 0.2430 - val_accuracy: 0.8146 - val_loss: 0.4273\n",
            "Epoch 176/200\n",
            "\u001b[1m62/62\u001b[0m \u001b[32m━━━━━━━━━━━━━━━━━━━━\u001b[0m\u001b[37m\u001b[0m \u001b[1m0s\u001b[0m 1ms/step - accuracy: 0.8438 - loss: 0.2941 - val_accuracy: 0.6500 - val_loss: 0.7308\n",
            "Epoch 177/200\n",
            "\u001b[1m62/62\u001b[0m \u001b[32m━━━━━━━━━━━━━━━━━━━━\u001b[0m\u001b[37m\u001b[0m \u001b[1m5s\u001b[0m 73ms/step - accuracy: 0.9041 - loss: 0.2318 - val_accuracy: 0.8062 - val_loss: 0.4689\n",
            "Epoch 178/200\n",
            "\u001b[1m62/62\u001b[0m \u001b[32m━━━━━━━━━━━━━━━━━━━━\u001b[0m\u001b[37m\u001b[0m \u001b[1m0s\u001b[0m 478us/step - accuracy: 0.9375 - loss: 0.1279 - val_accuracy: 0.8500 - val_loss: 0.2724\n",
            "Epoch 179/200\n",
            "\u001b[1m62/62\u001b[0m \u001b[32m━━━━━━━━━━━━━━━━━━━━\u001b[0m\u001b[37m\u001b[0m \u001b[1m6s\u001b[0m 95ms/step - accuracy: 0.8986 - loss: 0.2427 - val_accuracy: 0.8208 - val_loss: 0.4296\n",
            "Epoch 180/200\n",
            "\u001b[1m62/62\u001b[0m \u001b[32m━━━━━━━━━━━━━━━━━━━━\u001b[0m\u001b[37m\u001b[0m \u001b[1m0s\u001b[0m 1ms/step - accuracy: 0.9375 - loss: 0.1560 - val_accuracy: 0.8000 - val_loss: 0.4942\n",
            "Epoch 181/200\n",
            "\u001b[1m62/62\u001b[0m \u001b[32m━━━━━━━━━━━━━━━━━━━━\u001b[0m\u001b[37m\u001b[0m \u001b[1m9s\u001b[0m 73ms/step - accuracy: 0.9135 - loss: 0.2136 - val_accuracy: 0.8188 - val_loss: 0.4223\n",
            "Epoch 182/200\n",
            "\u001b[1m62/62\u001b[0m \u001b[32m━━━━━━━━━━━━━━━━━━━━\u001b[0m\u001b[37m\u001b[0m \u001b[1m0s\u001b[0m 305us/step - accuracy: 0.9062 - loss: 0.1840 - val_accuracy: 0.8000 - val_loss: 0.4238\n",
            "Epoch 183/200\n",
            "\u001b[1m62/62\u001b[0m \u001b[32m━━━━━━━━━━━━━━━━━━━━\u001b[0m\u001b[37m\u001b[0m \u001b[1m6s\u001b[0m 93ms/step - accuracy: 0.9081 - loss: 0.2327 - val_accuracy: 0.8062 - val_loss: 0.4725\n",
            "Epoch 184/200\n",
            "\u001b[1m62/62\u001b[0m \u001b[32m━━━━━━━━━━━━━━━━━━━━\u001b[0m\u001b[37m\u001b[0m \u001b[1m0s\u001b[0m 333us/step - accuracy: 0.9375 - loss: 0.1954 - val_accuracy: 0.8500 - val_loss: 0.7055\n",
            "Epoch 185/200\n",
            "\u001b[1m62/62\u001b[0m \u001b[32m━━━━━━━━━━━━━━━━━━━━\u001b[0m\u001b[37m\u001b[0m \u001b[1m9s\u001b[0m 83ms/step - accuracy: 0.9093 - loss: 0.2210 - val_accuracy: 0.7792 - val_loss: 0.5437\n",
            "Epoch 186/200\n",
            "\u001b[1m62/62\u001b[0m \u001b[32m━━━━━━━━━━━━━━━━━━━━\u001b[0m\u001b[37m\u001b[0m \u001b[1m0s\u001b[0m 664us/step - accuracy: 0.8750 - loss: 0.3663 - val_accuracy: 0.8500 - val_loss: 0.5068\n",
            "Epoch 187/200\n",
            "\u001b[1m62/62\u001b[0m \u001b[32m━━━━━━━━━━━━━━━━━━━━\u001b[0m\u001b[37m\u001b[0m \u001b[1m10s\u001b[0m 73ms/step - accuracy: 0.8983 - loss: 0.2357 - val_accuracy: 0.7958 - val_loss: 0.4662\n",
            "Epoch 188/200\n",
            "\u001b[1m62/62\u001b[0m \u001b[32m━━━━━━━━━━━━━━━━━━━━\u001b[0m\u001b[37m\u001b[0m \u001b[1m0s\u001b[0m 1ms/step - accuracy: 0.9062 - loss: 0.2553 - val_accuracy: 0.7000 - val_loss: 0.4872\n",
            "Epoch 189/200\n",
            "\u001b[1m62/62\u001b[0m \u001b[32m━━━━━━━━━━━━━━━━━━━━\u001b[0m\u001b[37m\u001b[0m \u001b[1m6s\u001b[0m 96ms/step - accuracy: 0.9017 - loss: 0.2417 - val_accuracy: 0.8167 - val_loss: 0.4678\n",
            "Epoch 190/200\n",
            "\u001b[1m62/62\u001b[0m \u001b[32m━━━━━━━━━━━━━━━━━━━━\u001b[0m\u001b[37m\u001b[0m \u001b[1m0s\u001b[0m 973us/step - accuracy: 0.9375 - loss: 0.1490 - val_accuracy: 0.8500 - val_loss: 0.4170\n",
            "Epoch 191/200\n",
            "\u001b[1m62/62\u001b[0m \u001b[32m━━━━━━━━━━━━━━━━━━━━\u001b[0m\u001b[37m\u001b[0m \u001b[1m9s\u001b[0m 73ms/step - accuracy: 0.9115 - loss: 0.2155 - val_accuracy: 0.8188 - val_loss: 0.4863\n",
            "Epoch 192/200\n",
            "\u001b[1m62/62\u001b[0m \u001b[32m━━━━━━━━━━━━━━━━━━━━\u001b[0m\u001b[37m\u001b[0m \u001b[1m0s\u001b[0m 1ms/step - accuracy: 0.9062 - loss: 0.2237 - val_accuracy: 0.8000 - val_loss: 0.6144\n",
            "Epoch 193/200\n",
            "\u001b[1m62/62\u001b[0m \u001b[32m━━━━━━━━━━━━━━━━━━━━\u001b[0m\u001b[37m\u001b[0m \u001b[1m7s\u001b[0m 94ms/step - accuracy: 0.8999 - loss: 0.2341 - val_accuracy: 0.8167 - val_loss: 0.4551\n",
            "Epoch 194/200\n",
            "\u001b[1m62/62\u001b[0m \u001b[32m━━━━━━━━━━━━━━━━━━━━\u001b[0m\u001b[37m\u001b[0m \u001b[1m0s\u001b[0m 347us/step - accuracy: 0.9375 - loss: 0.1624 - val_accuracy: 0.6500 - val_loss: 0.6622\n",
            "Epoch 195/200\n",
            "\u001b[1m62/62\u001b[0m \u001b[32m━━━━━━━━━━━━━━━━━━━━\u001b[0m\u001b[37m\u001b[0m \u001b[1m5s\u001b[0m 75ms/step - accuracy: 0.9145 - loss: 0.2027 - val_accuracy: 0.8062 - val_loss: 0.4859\n",
            "Epoch 196/200\n",
            "\u001b[1m62/62\u001b[0m \u001b[32m━━━━━━━━━━━━━━━━━━━━\u001b[0m\u001b[37m\u001b[0m \u001b[1m0s\u001b[0m 1ms/step - accuracy: 0.8750 - loss: 0.2718 - val_accuracy: 0.8000 - val_loss: 0.4796\n",
            "Epoch 197/200\n",
            "\u001b[1m62/62\u001b[0m \u001b[32m━━━━━━━━━━━━━━━━━━━━\u001b[0m\u001b[37m\u001b[0m \u001b[1m10s\u001b[0m 73ms/step - accuracy: 0.9000 - loss: 0.2354 - val_accuracy: 0.8042 - val_loss: 0.4923\n",
            "Epoch 198/200\n",
            "\u001b[1m62/62\u001b[0m \u001b[32m━━━━━━━━━━━━━━━━━━━━\u001b[0m\u001b[37m\u001b[0m \u001b[1m0s\u001b[0m 464us/step - accuracy: 0.8438 - loss: 0.2864 - val_accuracy: 0.7500 - val_loss: 0.5344\n",
            "Epoch 199/200\n",
            "\u001b[1m62/62\u001b[0m \u001b[32m━━━━━━━━━━━━━━━━━━━━\u001b[0m\u001b[37m\u001b[0m \u001b[1m5s\u001b[0m 78ms/step - accuracy: 0.8978 - loss: 0.2204 - val_accuracy: 0.8146 - val_loss: 0.4776\n",
            "Epoch 200/200\n",
            "\u001b[1m62/62\u001b[0m \u001b[32m━━━━━━━━━━━━━━━━━━━━\u001b[0m\u001b[37m\u001b[0m \u001b[1m0s\u001b[0m 8ms/step - accuracy: 0.9688 - loss: 0.1975 - val_accuracy: 0.8500 - val_loss: 0.2989\n"
          ]
        },
        {
          "output_type": "execute_result",
          "data": {
            "text/plain": [
              "<keras.src.callbacks.history.History at 0x78c4506fcd10>"
            ]
          },
          "metadata": {},
          "execution_count": 7
        }
      ]
    },
    {
      "cell_type": "code",
      "source": [
        "model.save(\"catdog.h5\")"
      ],
      "metadata": {
        "colab": {
          "base_uri": "https://localhost:8080/"
        },
        "id": "hFj1NEe8zQ-M",
        "outputId": "196dbbe9-da4c-474e-d2cd-df1589a4be27"
      },
      "execution_count": null,
      "outputs": [
        {
          "output_type": "stream",
          "name": "stderr",
          "text": [
            "WARNING:absl:You are saving your model as an HDF5 file via `model.save()` or `keras.saving.save_model(model)`. This file format is considered legacy. We recommend using instead the native Keras format, e.g. `model.save('my_model.keras')` or `keras.saving.save_model(model, 'my_model.keras')`. \n"
          ]
        }
      ]
    },
    {
      "cell_type": "code",
      "source": [
        "import cv2\n",
        "import matplotlib.pyplot as plt\n",
        "img = cv2.imread(\"/content/dog.jpg\")\n",
        "img = cv2.cvtColor(img,cv2.COLOR_BGR2RGB)\n",
        "img = cv2.resize(img,(64,64))\n",
        "img = img/255\n",
        "print(model.predict(np.array([img])).round())\n",
        "plt.imshow(img);"
      ],
      "metadata": {
        "colab": {
          "base_uri": "https://localhost:8080/",
          "height": 468
        },
        "id": "aSqiad7N_PGi",
        "outputId": "9d36847e-d35e-410e-9409-2124596c553d"
      },
      "execution_count": null,
      "outputs": [
        {
          "output_type": "stream",
          "name": "stdout",
          "text": [
            "\u001b[1m1/1\u001b[0m \u001b[32m━━━━━━━━━━━━━━━━━━━━\u001b[0m\u001b[37m\u001b[0m \u001b[1m0s\u001b[0m 17ms/step\n",
            "[[1.]]\n"
          ]
        },
        {
          "output_type": "display_data",
          "data": {
            "text/plain": [
              "<Figure size 640x480 with 1 Axes>"
            ],
            "image/png": "[encoded data removed]"
          },
          "metadata": {}
        }
      ]
    },
    {
      "cell_type": "code",
      "source": [
        "import cv2\n",
        "import matplotlib.pyplot as plt\n",
        "mymodel = keras.models.load_model(\"/content/catdog.h5\")\n",
        "img = cv2.imread(\"/content/dog.jpg\")\n",
        "img = cv2.cvtColor(img,cv2.COLOR_BGR2RGB)\n",
        "img = cv2.resize(img,(64,64))\n",
        "img = img/255\n",
        "print(mymodel.predict(np.array([img])).round())\n",
        "plt.imshow(img);"
      ],
      "metadata": {
        "colab": {
          "base_uri": "https://localhost:8080/",
          "height": 505
        },
        "id": "Zd7pU_QX_x9H",
        "outputId": "7d1a8b20-a469-4cd2-a5ec-b95279a2eb46"
      },
      "execution_count": null,
      "outputs": [
        {
          "output_type": "stream",
          "name": "stderr",
          "text": [
            "WARNING:absl:Compiled the loaded model, but the compiled metrics have yet to be built. `model.compile_metrics` will be empty until you train or evaluate the model.\n"
          ]
        },
        {
          "output_type": "stream",
          "name": "stdout",
          "text": [
            "\u001b[1m1/1\u001b[0m \u001b[32m━━━━━━━━━━━━━━━━━━━━\u001b[0m\u001b[37m\u001b[0m \u001b[1m0s\u001b[0m 195ms/step\n",
            "[[1.]]\n"
          ]
        },
        {
          "output_type": "display_data",
          "data": {
            "text/plain": [
              "<Figure size 640x480 with 1 Axes>"
            ],
            "image/png": "[encoded data removed]"
          },
          "metadata": {}
        }
      ]
    },
    {
      "cell_type": "code",
      "source": [],
      "metadata": {
        "id": "MwLplh3TAMLx"
      },
      "execution_count": null,
      "outputs": []
    }
  ]
}